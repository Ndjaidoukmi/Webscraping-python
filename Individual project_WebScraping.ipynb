{
 "cells": [
  {
   "cell_type": "code",
   "execution_count": 61,
   "metadata": {},
   "outputs": [],
   "source": [
    "import selenium\n",
    "from selenium import webdriver\n",
    "from selenium.webdriver.support.wait import WebDriverWait\n",
    "import csv\n",
    "import time\n",
    "import pandas as pd\n",
    "import re\n",
    "import csv\n",
    "import numpy as np"
   ]
  },
  {
   "cell_type": "code",
   "execution_count": 62,
   "metadata": {},
   "outputs": [],
   "source": [
    "#Fonction  to start selenium driver\n",
    "\n",
    "def start_driver():\n",
    "    #Location of webdriver\n",
    "    driver = webdriver.Chrome(\"C:\\\\Users\\\\nkeda\\\\Desktop\\\\MBD\\\\IESEG\\\\Training Materiels\\\\Financial Programming\\\\Indiviual Project\\\\chromedriver_win32\\\\chromedriver.exe\")\n",
    "    driver.maximize_window()\n",
    "    return driver\n",
    "\n",
    "def go_to_url(driver, url):\n",
    "    driver.get(url)\n",
    "    wait_for_page_to_load(driver)\n",
    "\n",
    "def wait_for_page_to_load(driver, timeout_seconds=3):\n",
    "    WebDriverWait(driver, timeout_seconds, 0.2)"
   ]
  },
  {
   "cell_type": "code",
   "execution_count": 63,
   "metadata": {
    "scrolled": true
   },
   "outputs": [],
   "source": [
    "driver = start_driver()\n",
    "#upload the url contain in the csv file for the url over 30 days in December from 1st Dec to 31st\n",
    "my_url_file = pd.read_csv(\"./urls_december.csv\", header = None)\n",
    "filename = \"data_hotel_booking.csv\" #File that will be generated after runing the code\n",
    "with open(filename, \"w\", newline='') as csvfile:\n",
    "    headers = [\"Date\",\"ID\", \"Hotel_Name\", \"Stars\", \"Reviews_score\", \"Reviews_classification\", \"Number_reviews\", \"Price\", \"Features\", \"Night\", \"Bed_configuration\", \"Location\", \"Location_Score\",\"Lat_Long\", \"Taxe\", \"Web_page\"]\n",
    "    writer = csv.DictWriter(csvfile, fieldnames=headers) \n",
    "    writer.writeheader()\n",
    "    for i in range(len(my_url_file)):\n",
    "        my_url= my_url_file[0][i]\n",
    "        go_to_url(driver, my_url)\n",
    "        date = i+1\n",
    "        time.sleep(2)\n",
    "        page = 1\n",
    "        while page in range(len(driver.find_elements_by_class_name(\"bui-pagination__item\"))):\n",
    "\n",
    "            try:\n",
    "\n",
    "                time.sleep(2)\n",
    "                hotels = driver.find_elements_by_class_name(\"sr_item\")\n",
    "                time.sleep(2)\n",
    "                for hotel in hotels:\n",
    "                    try:\n",
    "\n",
    "\n",
    "                        hotel_id = hotel.get_attribute(\"data-hotelid\")\n",
    "                        hotel_name = hotel.find_element_by_class_name(\"sr-hotel__name\").text\n",
    "                        stars = hotel.get_attribute(\"data-class\")\n",
    "                        reviews_score = hotel.get_attribute(\"data-score\")    \n",
    "                        reviews_classification = hotel.find_element_by_class_name(\"bui-review-score__title\").text    \n",
    "                        number_reviews = hotel.find_element_by_class_name(\"bui-review-score__text\").text\n",
    "                        price = hotel.find_element_by_class_name(\"bui-price-display__value\").text\n",
    "                        features = hotel.find_element_by_class_name(\"room_link\").text   \n",
    "                        night = hotel.find_element_by_class_name(\"bui-price-display__label\").text\n",
    "                        bed_configuration = hotel.find_element_by_class_name(\"room_info\").text        \n",
    "                        location = hotel.find_element_by_class_name(\"sr_card_address_line\").text\n",
    "                        taxe_info = hotel.find_element_by_class_name(\"prd-taxes-and-fees-under-price\").text\n",
    "                        geo_info = hotel.find_element_by_class_name(\"bui-link\").get_attribute(\"data-coords\")\n",
    "                        hotel_url = hotel.find_element_by_class_name(\"bui-link\").get_attribute(\"href\")\n",
    "                        if len(hotel.find_elements_by_class_name(\"review-score-badge\"))>0:\n",
    "                            location_score = hotel.find_element_by_class_name(\"review-score-badge\").text\n",
    "                        else:\n",
    "                            location_score = '0'\n",
    "                    except:\n",
    "                        pass          \n",
    "\n",
    "                    writer.writerow({'Date':date,'ID':hotel_id,'Hotel_Name':hotel_name,'Stars':stars,'Reviews_score': reviews_score,'Reviews_classification':reviews_classification, 'Number_reviews':number_reviews,'Price':price , 'Features':features,'Night':night,'Bed_configuration':bed_configuration ,'Location':location, 'Location_Score':location_score, 'Lat_Long':geo_info, 'Taxe':taxe_info, 'Web_page':hotel_url})\n",
    "                    time.sleep(2)\n",
    "\n",
    "                time.sleep(5)\n",
    "                if page <= (len(driver.find_elements_by_class_name(\"bui-pagination__item\"))-1): #Condition to avoid clicking on the next button a the end of pagination\n",
    "                    next_page = driver.find_element_by_class_name('paging-next')\n",
    "                    driver.execute_script(\"arguments[0].click()\", next_page)\n",
    "                else:\n",
    "                    pass\n",
    "            except:\n",
    "                pass\n",
    "\n",
    "\n",
    "            page +=1\n",
    "    csvfile.close()\n",
    "    "
   ]
  },
  {
   "cell_type": "code",
   "execution_count": null,
   "metadata": {},
   "outputs": [],
   "source": [
    "###REFERRENCE\n",
    "\n",
    "#https://medium.com/analytics-vidhya/scraping-airbnb-fe1e895bd925\n",
    "#https://www.scrapehero.com/scrape-property-data-from-booking-com-using-google-chrome/\n",
    "#https://plotly.com/python/plotly-express/"
   ]
  }
 ],
 "metadata": {
  "kernelspec": {
   "display_name": "Python 3",
   "language": "python",
   "name": "python3"
  },
  "language_info": {
   "codemirror_mode": {
    "name": "ipython",
    "version": 3
   },
   "file_extension": ".py",
   "mimetype": "text/x-python",
   "name": "python",
   "nbconvert_exporter": "python",
   "pygments_lexer": "ipython3",
   "version": "3.8.3"
  }
 },
 "nbformat": 4,
 "nbformat_minor": 4
}
